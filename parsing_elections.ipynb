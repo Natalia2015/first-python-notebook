{
 "cells": [
  {
   "cell_type": "code",
   "execution_count": 1,
   "metadata": {},
   "outputs": [],
   "source": [
    "import pandas as pd"
   ]
  },
  {
   "cell_type": "code",
   "execution_count": 2,
   "metadata": {},
   "outputs": [],
   "source": [
    "import requests\n",
    "import re"
   ]
  },
  {
   "cell_type": "code",
   "execution_count": 3,
   "metadata": {},
   "outputs": [],
   "source": [
    "from bs4 import BeautifulSoup"
   ]
  },
  {
   "cell_type": "code",
   "execution_count": 4,
   "metadata": {},
   "outputs": [],
   "source": [
    "#json is simplejson, added to the stdlib. since json was added in 2.6, simplejson has the advantage of working on more Python versions (2.4+).\n",
    "import simplejson\n",
    "import json"
   ]
  },
  {
   "cell_type": "code",
   "execution_count": 5,
   "metadata": {},
   "outputs": [],
   "source": [
    "import time\n",
    "from time import sleep"
   ]
  },
  {
   "cell_type": "code",
   "execution_count": 6,
   "metadata": {},
   "outputs": [],
   "source": [
    "#extract data from one election zone\n",
    "def json_to_df(N):\n",
    "        link1=\"https://www.drv.gov.ua/portal/!cm_core.cm_index?option=ext_dvk&pid100=5&pf5242=0\"+str(N)+\"&prejim=3\"\n",
    "        r_elections=requests.get(link1,timeout=15)\n",
    "        link2=re.findall(\".*Math\\.random\", r_elections.text)\n",
    "        link3=\"https://www.drv.gov.ua/portal/\"+str(link2)[11:-2]\n",
    "        try:\n",
    "            time.sleep(2)\n",
    "            content = requests.get(link3).json()\n",
    "            Temp_dict = [{'Nomer': N, 'PolygonCoordinates': content[u'features'][0][u'geometry'][u'coordinates'][0], 'PointCoordinates1': content[u'features'][1][u'geometry'][u'coordinates'], 'PointCoordinates2': content[u'features'][2][u'geometry'][u'coordinates']}]\n",
    "            local_df = pd.DataFrame(Temp_dict,index=None)\n",
    "        except ValueError:\n",
    "            Temp_dict = [{'Nomer': N, 'PolygonCoordinates': 'No Data', 'PointCoordinates1': 'No Data', 'PointCoordinates2': 'No data'}]\n",
    "            local_df = pd.DataFrame(Temp_dict,index=None)\n",
    "        return local_df"
   ]
  },
  {
   "cell_type": "code",
   "execution_count": 7,
   "metadata": {},
   "outputs": [],
   "source": [
    "#create the main dataframe\n",
    "dilnitsi=pd.DataFrame(columns=['Nomer','PolygonCoordinates','PointCoordinates1','PointCoordinates2'])"
   ]
  },
  {
   "cell_type": "code",
   "execution_count": 9,
   "metadata": {},
   "outputs": [],
   "source": [
    "#appends the single dataframe row to the main dataframe where i denotes the number of the election zone-dilnitsa\n",
    "for i in range(180951,180953):\n",
    "    k=json_to_df(i)\n",
    "    dilnitsi=dilnitsi.append(k,ignore_index=True)"
   ]
  },
  {
   "cell_type": "code",
   "execution_count": 10,
   "metadata": {},
   "outputs": [],
   "source": [
    "#Here you may use your output name and destination for the .csv file\n",
    "dilnitsi.to_csv(\"File_name.csv\", index=False)"
   ]
  }
 ],
 "metadata": {
  "kernelspec": {
   "display_name": "Python 2",
   "language": "python",
   "name": "python2"
  },
  "language_info": {
   "codemirror_mode": {
    "name": "ipython",
    "version": 2
   },
   "file_extension": ".py",
   "mimetype": "text/x-python",
   "name": "python",
   "nbconvert_exporter": "python",
   "pygments_lexer": "ipython2",
   "version": "2.7.13"
  }
 },
 "nbformat": 4,
 "nbformat_minor": 2
}
